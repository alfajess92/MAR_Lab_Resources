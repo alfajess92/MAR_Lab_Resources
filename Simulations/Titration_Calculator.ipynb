{
 "cells": [
  {
   "cell_type": "markdown",
   "metadata": {},
   "source": [
    "# Titration Calculator #"
   ]
  },
  {
   "cell_type": "code",
   "execution_count": 1,
   "metadata": {
    "ExecuteTime": {
     "start_time": "2023-04-18T15:45:21.874607Z",
     "end_time": "2023-04-18T15:45:23.527618Z"
    }
   },
   "outputs": [],
   "source": [
    "#Titration Calculator\n",
    "import numpy as np\n",
    "import matplotlib.pyplot as plt\n",
    "import pandas as pd"
   ]
  },
  {
   "cell_type": "code",
   "execution_count": 2,
   "metadata": {
    "ExecuteTime": {
     "start_time": "2023-04-18T15:45:23.533818Z",
     "end_time": "2023-04-18T15:45:23.536226Z"
    }
   },
   "outputs": [],
   "source": [
    "#This is the base class for the titration calculator\n",
    "class PHCalculator:\n",
    "    def __init__(self,  volume_analyte, cAcid, cBase):\n",
    "        self.cAcid = cAcid\n",
    "        self.cBase = cBase\n",
    "        self.kw = 1e-14\n",
    "        self.volume_analyte = volume_analyte\n",
    "\n",
    "#the def calculate_pH is the function that calculates the pH of the solution after a titration\n",
    "    def calculate_pH(self, volume_titrant):\n",
    "        return NotImplemented(\"This is the base calculator class. Please use a subclass instead.\")\n",
    "\n",
    "#the def plot_curve is the function that plots the pH of the solution after a titration\n",
    "    def plot_curve(self, volume_titrant_list):\n",
    "        pH_list = []\n",
    "        for volume_titrant in volume_titrant_list:\n",
    "            pH_list.append(self.calculate_pH(volume_titrant))\n",
    "        fig=plt.figure()\n",
    "        ax=fig.add_subplot(111)\n",
    "\n",
    "        ax.plot(volume_titrant_list, pH_list )\n",
    "        ax.set_xlabel(\"Volume of Titrant (mL)\")\n",
    "        ax.set_ylabel(\"pH\")\n",
    "        ax.set_title(\"pH vs. Volume of Titrant\")\n",
    "        ax.set_ylim(0,14)\n",
    "        return fig, ax\n",
    "\n",
    "#the def df_results is the function that creates a dataframe with pH and volume of titrant\n",
    "    def df_results(self, volume_titrant_list):\n",
    "        pH_list = []\n",
    "        for volume_titrant in volume_titrant_list:\n",
    "            pH_list.append(self.calculate_pH(volume_titrant))\n",
    "        df = pd.DataFrame({'Volume of Titrant (mL)': volume_titrant_list, 'pH': pH_list})\n",
    "        return df\n"
   ]
  },
  {
   "cell_type": "markdown",
   "metadata": {},
   "source": [
    "The following code is the subclass for strong acid titrations."
   ]
  },
  {
   "cell_type": "code",
   "execution_count": 3,
   "metadata": {
    "ExecuteTime": {
     "start_time": "2023-04-18T15:45:23.540943Z",
     "end_time": "2023-04-18T15:45:23.543425Z"
    }
   },
   "outputs": [],
   "source": [
    "#This is the subclass for strong acid titrations\n",
    "class PHCalculatorStrongAcid(PHCalculator):\n",
    "    def __init__(self, volume_analyte, cAcid, cBase):\n",
    "        super().__init__(volume_analyte,cAcid, cBase)\n",
    "\n",
    "    def calculate_pH(self, volume_titrant):\n",
    "        Va = self.volume_analyte\n",
    "        Vb = volume_titrant\n",
    "        CaVa= self.cAcid * Va\n",
    "        CbVb= self.cBase * Vb\n",
    "        totalVolume = Va+Vb\n",
    "        if CaVa>CbVb:\n",
    "            mProton = (CaVa - CbVb)/totalVolume\n",
    "            pH = -np.log10(mProton).round(2)\n",
    "        elif CaVa==CbVb:\n",
    "            pH = 7\n",
    "        else:\n",
    "            mProton = (CbVb - CaVa)/totalVolume\n",
    "            pH = 14 + np.log10(mProton).round(2)\n",
    "        return np.clip(pH, 0, 14)\n"
   ]
  },
  {
   "cell_type": "code",
   "execution_count": 4,
   "metadata": {
    "ExecuteTime": {
     "start_time": "2023-04-18T15:45:23.548122Z",
     "end_time": "2023-04-18T15:45:23.551149Z"
    }
   },
   "outputs": [],
   "source": [
    "#This is the subclass for strong base titrations\n",
    "class PHCalculatorStrongBase(PHCalculator):\n",
    "    def __init__(self, volume_analyte, cAcid, cBase):\n",
    "        super().__init__(volume_analyte, cAcid, cBase)\n",
    "\n",
    "    def calculate_pH(self, volume_titrant):\n",
    "        Va = volume_titrant\n",
    "        Vb = self.volume_analyte\n",
    "        CaVa= self.cAcid * Va\n",
    "        CbVb= self.cBase * Vb\n",
    "        totalVolume = Va+Vb\n",
    "        if CbVb>CaVa:\n",
    "            mHydroxide = (CbVb-CaVa)/totalVolume\n",
    "            pH= 14 + np.log10(mHydroxide).round(2)\n",
    "        elif CaVa==CbVb:\n",
    "            pH = 7\n",
    "        else:\n",
    "            mProton = (CaVa-CbVb)/totalVolume\n",
    "            pH = -np.log10(mProton).round(2)\n",
    "        return np.clip(pH, 0, 14)\n"
   ]
  },
  {
   "cell_type": "code",
   "execution_count": 5,
   "metadata": {
    "ExecuteTime": {
     "start_time": "2023-04-18T15:45:23.551683Z",
     "end_time": "2023-04-18T15:45:23.566833Z"
    }
   },
   "outputs": [],
   "source": [
    "#This is the subclass for weak acid titrations\n",
    "class PHCalculatorWeakAcid(PHCalculator):\n",
    "    def __init__(self, volume_analyte, cAcid, cBase, ka):\n",
    "        super().__init__(volume_analyte, cAcid, cBase)\n",
    "        self.ka = ka\n",
    "\n",
    "    def calculate_pH(self, volume_titrant):\n",
    "        Va = self.volume_analyte\n",
    "        Vb = volume_titrant\n",
    "        totalVolume = Va+Vb\n",
    "        CaVa= self.cAcid * Va\n",
    "        CbVb= self.cBase * Vb\n",
    "        concentrationphi= self.cAcid/self.cBase\n",
    "        phi=Vb/(concentrationphi*Va)\n",
    "        kb=self.kw/self.ka\n",
    "\n",
    "        if phi==0:\n",
    "            mProton=np.sqrt(self.ka* self.cAcid)\n",
    "            pH=-np.log10(mProton).round(3)\n",
    "        elif phi>0 and phi<1:\n",
    "            mProton=self.ka*(1-phi)/phi\n",
    "            pH=-np.log10(mProton).round(3)\n",
    "        elif phi==1:\n",
    "            mHydroxide=np.sqrt(kb*(CaVa/totalVolume))\n",
    "            pH=14+np.log10(mHydroxide).round(3)\n",
    "        else:\n",
    "            mol=CbVb-CaVa\n",
    "            mHydroxide=mol/totalVolume\n",
    "            pH=14+np.log10(mHydroxide).round(3)\n",
    "\n",
    "        return np.clip(pH, 0, 14)"
   ]
  },
  {
   "cell_type": "code",
   "execution_count": 6,
   "metadata": {
    "ExecuteTime": {
     "start_time": "2023-04-18T15:45:23.560859Z",
     "end_time": "2023-04-18T15:45:23.573177Z"
    }
   },
   "outputs": [],
   "source": [
    "#This is the subclass for weak base titrations\n",
    "class PHCalculatorWeakBase(PHCalculator):\n",
    "    def __init__(self, volume_analyte,  cAcid, cBase, kb):\n",
    "        super().__init__(volume_analyte,  cAcid, cBase)\n",
    "        self.kb = kb\n",
    "\n",
    "    def calculate_pH(self, volume_titrant):\n",
    "        Va = volume_titrant\n",
    "        Vb = self.volume_analyte\n",
    "        totalVolume = Va+Vb\n",
    "        CaVa= self.cAcid * Va\n",
    "        CbVb= self.cBase * Vb\n",
    "        concentrationphi= self.cBase/self.cAcid\n",
    "        phi=Va/(concentrationphi*Vb)\n",
    "        ka=self.kw/self.kb\n",
    "\n",
    "        if phi==0:\n",
    "            mHydroxide=np.sqrt(self.kb* self.cBase)\n",
    "            pH=14+np.log10(mHydroxide).round(3)\n",
    "        elif phi>0 and phi<1:\n",
    "            mHydroxide=self.kb*(1-phi)/phi\n",
    "            pH=14+np.log10(mHydroxide).round(3)\n",
    "        elif phi==1:\n",
    "            mProton=np.sqrt(ka*(CbVb/totalVolume))\n",
    "            pH=-np.log10(mProton).round(3)\n",
    "        else:\n",
    "            mol=CaVa-CbVb\n",
    "            mProton=mol/totalVolume\n",
    "            pH=-np.log10(mProton).round(3)\n",
    "        return np.clip(pH, 0, 14)"
   ]
  },
  {
   "cell_type": "markdown",
   "metadata": {},
   "source": [
    "# Titration Examples "
   ]
  },
  {
   "cell_type": "markdown",
   "metadata": {},
   "source": [
    "## Strong Acid vs. Strong Base"
   ]
  },
  {
   "cell_type": "code",
   "execution_count": 7,
   "outputs": [
    {
     "data": {
      "text/plain": "    Volume of Titrant (mL)     pH\n0                 0.000000   0.30\n1                 0.508475   0.35\n2                 1.016949   0.39\n3                 1.525424   0.43\n4                 2.033898   0.48\n5                 2.542373   0.53\n6                 3.050847   0.57\n7                 3.559322   0.62\n8                 4.067797   0.68\n9                 4.576271   0.73\n10                5.084746   0.79\n11                5.593220   0.85\n12                6.101695   0.92\n13                6.610169   0.99\n14                7.118644   1.07\n15                7.627119   1.17\n16                8.135593   1.29\n17                8.644068   1.44\n18                9.152542   1.66\n19                9.661017   2.06\n20               10.169492  11.62\n21               10.677966  12.21\n22               11.186441  12.45\n23               11.694915  12.59\n24               12.203390  12.70\n25               12.711864  12.78\n26               13.220339  12.84\n27               13.728814  12.90\n28               14.237288  12.94\n29               14.745763  12.98\n30               15.254237  13.02\n31               15.762712  13.05\n32               16.271186  13.08\n33               16.779661  13.10\n34               17.288136  13.13\n35               17.796610  13.15\n36               18.305085  13.17\n37               18.813559  13.18\n38               19.322034  13.20\n39               19.830508  13.22\n40               20.338983  13.23\n41               20.847458  13.25\n42               21.355932  13.26\n43               21.864407  13.27\n44               22.372881  13.28\n45               22.881356  13.29\n46               23.389831  13.30\n47               23.898305  13.31\n48               24.406780  13.32\n49               24.915254  13.33\n50               25.423729  13.34\n51               25.932203  13.35\n52               26.440678  13.35\n53               26.949153  13.36\n54               27.457627  13.37\n55               27.966102  13.37\n56               28.474576  13.38\n57               28.983051  13.39\n58               29.491525  13.39\n59               30.000000  13.40",
      "text/html": "<div>\n<style scoped>\n    .dataframe tbody tr th:only-of-type {\n        vertical-align: middle;\n    }\n\n    .dataframe tbody tr th {\n        vertical-align: top;\n    }\n\n    .dataframe thead th {\n        text-align: right;\n    }\n</style>\n<table border=\"1\" class=\"dataframe\">\n  <thead>\n    <tr style=\"text-align: right;\">\n      <th></th>\n      <th>Volume of Titrant (mL)</th>\n      <th>pH</th>\n    </tr>\n  </thead>\n  <tbody>\n    <tr>\n      <th>0</th>\n      <td>0.000000</td>\n      <td>0.30</td>\n    </tr>\n    <tr>\n      <th>1</th>\n      <td>0.508475</td>\n      <td>0.35</td>\n    </tr>\n    <tr>\n      <th>2</th>\n      <td>1.016949</td>\n      <td>0.39</td>\n    </tr>\n    <tr>\n      <th>3</th>\n      <td>1.525424</td>\n      <td>0.43</td>\n    </tr>\n    <tr>\n      <th>4</th>\n      <td>2.033898</td>\n      <td>0.48</td>\n    </tr>\n    <tr>\n      <th>5</th>\n      <td>2.542373</td>\n      <td>0.53</td>\n    </tr>\n    <tr>\n      <th>6</th>\n      <td>3.050847</td>\n      <td>0.57</td>\n    </tr>\n    <tr>\n      <th>7</th>\n      <td>3.559322</td>\n      <td>0.62</td>\n    </tr>\n    <tr>\n      <th>8</th>\n      <td>4.067797</td>\n      <td>0.68</td>\n    </tr>\n    <tr>\n      <th>9</th>\n      <td>4.576271</td>\n      <td>0.73</td>\n    </tr>\n    <tr>\n      <th>10</th>\n      <td>5.084746</td>\n      <td>0.79</td>\n    </tr>\n    <tr>\n      <th>11</th>\n      <td>5.593220</td>\n      <td>0.85</td>\n    </tr>\n    <tr>\n      <th>12</th>\n      <td>6.101695</td>\n      <td>0.92</td>\n    </tr>\n    <tr>\n      <th>13</th>\n      <td>6.610169</td>\n      <td>0.99</td>\n    </tr>\n    <tr>\n      <th>14</th>\n      <td>7.118644</td>\n      <td>1.07</td>\n    </tr>\n    <tr>\n      <th>15</th>\n      <td>7.627119</td>\n      <td>1.17</td>\n    </tr>\n    <tr>\n      <th>16</th>\n      <td>8.135593</td>\n      <td>1.29</td>\n    </tr>\n    <tr>\n      <th>17</th>\n      <td>8.644068</td>\n      <td>1.44</td>\n    </tr>\n    <tr>\n      <th>18</th>\n      <td>9.152542</td>\n      <td>1.66</td>\n    </tr>\n    <tr>\n      <th>19</th>\n      <td>9.661017</td>\n      <td>2.06</td>\n    </tr>\n    <tr>\n      <th>20</th>\n      <td>10.169492</td>\n      <td>11.62</td>\n    </tr>\n    <tr>\n      <th>21</th>\n      <td>10.677966</td>\n      <td>12.21</td>\n    </tr>\n    <tr>\n      <th>22</th>\n      <td>11.186441</td>\n      <td>12.45</td>\n    </tr>\n    <tr>\n      <th>23</th>\n      <td>11.694915</td>\n      <td>12.59</td>\n    </tr>\n    <tr>\n      <th>24</th>\n      <td>12.203390</td>\n      <td>12.70</td>\n    </tr>\n    <tr>\n      <th>25</th>\n      <td>12.711864</td>\n      <td>12.78</td>\n    </tr>\n    <tr>\n      <th>26</th>\n      <td>13.220339</td>\n      <td>12.84</td>\n    </tr>\n    <tr>\n      <th>27</th>\n      <td>13.728814</td>\n      <td>12.90</td>\n    </tr>\n    <tr>\n      <th>28</th>\n      <td>14.237288</td>\n      <td>12.94</td>\n    </tr>\n    <tr>\n      <th>29</th>\n      <td>14.745763</td>\n      <td>12.98</td>\n    </tr>\n    <tr>\n      <th>30</th>\n      <td>15.254237</td>\n      <td>13.02</td>\n    </tr>\n    <tr>\n      <th>31</th>\n      <td>15.762712</td>\n      <td>13.05</td>\n    </tr>\n    <tr>\n      <th>32</th>\n      <td>16.271186</td>\n      <td>13.08</td>\n    </tr>\n    <tr>\n      <th>33</th>\n      <td>16.779661</td>\n      <td>13.10</td>\n    </tr>\n    <tr>\n      <th>34</th>\n      <td>17.288136</td>\n      <td>13.13</td>\n    </tr>\n    <tr>\n      <th>35</th>\n      <td>17.796610</td>\n      <td>13.15</td>\n    </tr>\n    <tr>\n      <th>36</th>\n      <td>18.305085</td>\n      <td>13.17</td>\n    </tr>\n    <tr>\n      <th>37</th>\n      <td>18.813559</td>\n      <td>13.18</td>\n    </tr>\n    <tr>\n      <th>38</th>\n      <td>19.322034</td>\n      <td>13.20</td>\n    </tr>\n    <tr>\n      <th>39</th>\n      <td>19.830508</td>\n      <td>13.22</td>\n    </tr>\n    <tr>\n      <th>40</th>\n      <td>20.338983</td>\n      <td>13.23</td>\n    </tr>\n    <tr>\n      <th>41</th>\n      <td>20.847458</td>\n      <td>13.25</td>\n    </tr>\n    <tr>\n      <th>42</th>\n      <td>21.355932</td>\n      <td>13.26</td>\n    </tr>\n    <tr>\n      <th>43</th>\n      <td>21.864407</td>\n      <td>13.27</td>\n    </tr>\n    <tr>\n      <th>44</th>\n      <td>22.372881</td>\n      <td>13.28</td>\n    </tr>\n    <tr>\n      <th>45</th>\n      <td>22.881356</td>\n      <td>13.29</td>\n    </tr>\n    <tr>\n      <th>46</th>\n      <td>23.389831</td>\n      <td>13.30</td>\n    </tr>\n    <tr>\n      <th>47</th>\n      <td>23.898305</td>\n      <td>13.31</td>\n    </tr>\n    <tr>\n      <th>48</th>\n      <td>24.406780</td>\n      <td>13.32</td>\n    </tr>\n    <tr>\n      <th>49</th>\n      <td>24.915254</td>\n      <td>13.33</td>\n    </tr>\n    <tr>\n      <th>50</th>\n      <td>25.423729</td>\n      <td>13.34</td>\n    </tr>\n    <tr>\n      <th>51</th>\n      <td>25.932203</td>\n      <td>13.35</td>\n    </tr>\n    <tr>\n      <th>52</th>\n      <td>26.440678</td>\n      <td>13.35</td>\n    </tr>\n    <tr>\n      <th>53</th>\n      <td>26.949153</td>\n      <td>13.36</td>\n    </tr>\n    <tr>\n      <th>54</th>\n      <td>27.457627</td>\n      <td>13.37</td>\n    </tr>\n    <tr>\n      <th>55</th>\n      <td>27.966102</td>\n      <td>13.37</td>\n    </tr>\n    <tr>\n      <th>56</th>\n      <td>28.474576</td>\n      <td>13.38</td>\n    </tr>\n    <tr>\n      <th>57</th>\n      <td>28.983051</td>\n      <td>13.39</td>\n    </tr>\n    <tr>\n      <th>58</th>\n      <td>29.491525</td>\n      <td>13.39</td>\n    </tr>\n    <tr>\n      <th>59</th>\n      <td>30.000000</td>\n      <td>13.40</td>\n    </tr>\n  </tbody>\n</table>\n</div>"
     },
     "execution_count": 7,
     "metadata": {},
     "output_type": "execute_result"
    },
    {
     "data": {
      "text/plain": "<Figure size 432x288 with 1 Axes>",
      "image/png": "[encoded data removed]"
     },
     "metadata": {
      "needs_background": "light"
     },
     "output_type": "display_data"
    }
   ],
   "source": [
    "volume_analyte = 10 #mL\n",
    "volume_titrant_list = np.linspace(0,30, 60)\n",
    "cAcid = 0.5 # [mol/L or M]\n",
    "cBase = 0.5 # [mol/L or M]\n",
    "calculator = PHCalculatorStrongAcid(volume_analyte,cAcid, cBase)\n",
    "calculator.plot_curve(volume_titrant_list)\n",
    "calculator.df_results(volume_titrant_list)"
   ],
   "metadata": {
    "collapsed": false,
    "ExecuteTime": {
     "start_time": "2023-04-18T15:45:23.579030Z",
     "end_time": "2023-04-18T15:45:23.779269Z"
    }
   }
  },
  {
   "cell_type": "markdown",
   "metadata": {},
   "source": [
    "## Strong Base vs. Strong Acid"
   ]
  },
  {
   "cell_type": "code",
   "execution_count": 11,
   "metadata": {
    "ExecuteTime": {
     "start_time": "2023-04-18T15:46:44.225867Z",
     "end_time": "2023-04-18T15:46:44.368763Z"
    }
   },
   "outputs": [
    {
     "data": {
      "text/plain": "(<Figure size 432x288 with 1 Axes>,\n <matplotlib.axes._subplots.AxesSubplot at 0x7fd89eeb8290>)"
     },
     "execution_count": 11,
     "metadata": {},
     "output_type": "execute_result"
    },
    {
     "data": {
      "text/plain": "<Figure size 432x288 with 1 Axes>",
      "image/png": "[encoded data removed]"
     },
     "metadata": {
      "needs_background": "light"
     },
     "output_type": "display_data"
    }
   ],
   "source": [
    "volume_analyte = 10 #mL\n",
    "volume_titrant_list = np.linspace(0,30, 100)\n",
    "cAcid = 0.1 # [mol/L or M]\n",
    "cBase = 0.1 # [mol/L or M]\n",
    "calculator = PHCalculatorStrongBase(volume_analyte, cAcid, cBase)\n",
    "calculator.plot_curve(volume_titrant_list)"
   ]
  },
  {
   "cell_type": "markdown",
   "metadata": {},
   "source": [
    "## Weak Acid vs. Strong Base"
   ]
  },
  {
   "cell_type": "code",
   "execution_count": 12,
   "metadata": {
    "ExecuteTime": {
     "start_time": "2023-04-18T15:47:25.531186Z",
     "end_time": "2023-04-18T15:47:25.656566Z"
    }
   },
   "outputs": [
    {
     "data": {
      "text/plain": "(<Figure size 432x288 with 1 Axes>,\n <matplotlib.axes._subplots.AxesSubplot at 0x7fd89ef0d750>)"
     },
     "execution_count": 12,
     "metadata": {},
     "output_type": "execute_result"
    },
    {
     "data": {
      "text/plain": "<Figure size 432x288 with 1 Axes>",
      "image/png": "[encoded data removed]"
     },
     "metadata": {
      "needs_background": "light"
     },
     "output_type": "display_data"
    }
   ],
   "source": [
    "volume_analyte = 10 #mL\n",
    "volume_titrant_list = np.linspace(0,30, 100)\n",
    "cAcid = 0.1 # [mol/L or M]\n",
    "cBase = 0.1 # [mol/L or M]\n",
    "ka = 10**-4.76 #CH3COOH\n",
    "\n",
    "calculator = PHCalculatorWeakAcid(volume_analyte, cAcid, cBase, ka)\n",
    "calculator.plot_curve(volume_titrant_list)"
   ]
  },
  {
   "cell_type": "markdown",
   "metadata": {},
   "source": [
    "## Weak Base vs. Strong Acid"
   ]
  },
  {
   "cell_type": "code",
   "execution_count": 10,
   "metadata": {
    "ExecuteTime": {
     "start_time": "2023-04-18T15:45:24.048252Z",
     "end_time": "2023-04-18T15:45:24.183333Z"
    }
   },
   "outputs": [
    {
     "data": {
      "text/plain": "(<Figure size 432x288 with 1 Axes>,\n <matplotlib.axes._subplots.AxesSubplot at 0x7fd89eaa1c10>)"
     },
     "execution_count": 10,
     "metadata": {},
     "output_type": "execute_result"
    },
    {
     "data": {
      "text/plain": "<Figure size 432x288 with 1 Axes>",
      "image/png": "[encoded data removed]"
     },
     "metadata": {
      "needs_background": "light"
     },
     "output_type": "display_data"
    }
   ],
   "source": [
    "volume_analyte = 10 #mL\n",
    "volume_titrant_list = np.linspace(0,30, 100)\n",
    "cAcid = 0.2 # [mol/L or M]\n",
    "cBase = 0.2 # [mol/L or M]\n",
    "kb = 10**-4.75 #NH3\n",
    "\n",
    "calculator = PHCalculatorWeakBase(volume_analyte, cAcid, cBase, kb)\n",
    "calculator.plot_curve(volume_titrant_list)"
   ]
  }
 ],
 "metadata": {
  "kernelspec": {
   "display_name": "sentiment_analysis",
   "language": "python",
   "name": "sentiment_analysis"
  },
  "language_info": {
   "codemirror_mode": {
    "name": "ipython",
    "version": 3
   },
   "file_extension": ".py",
   "mimetype": "text/x-python",
   "name": "python",
   "nbconvert_exporter": "python",
   "pygments_lexer": "ipython3",
   "version": "3.7.6"
  }
 },
 "nbformat": 4,
 "nbformat_minor": 1
}
