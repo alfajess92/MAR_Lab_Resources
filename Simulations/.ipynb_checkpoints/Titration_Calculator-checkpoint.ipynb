{
 "cells": [
  {
   "cell_type": "code",
   "execution_count": 1,
   "metadata": {
    "collapsed": true
   },
   "outputs": [],
   "source": [
    "#Titration Calculator for Website\n",
    "import numpy as np\n",
    "import matplotlib.pyplot as plt"
   ]
  },
  {
   "cell_type": "markdown",
   "metadata": {},
   "source": [
    "The function of this code is to calculate the pH of a solution after a titration.\n",
    "The code is written in Python and is designed to be used in a Jupyter Notebook."
   ]
  },
  {
   "cell_type": "code",
   "execution_count": 2,
   "metadata": {},
   "outputs": [],
   "source": [
    "#This is the base class for the titration calculator\n",
    "class PHCalculator():\n",
    "    def __init__(self,  volume_analyte, cAcid, cBase):\n",
    "        self.cAcid = cAcid\n",
    "        self.cBase = cBase\n",
    "        self.kw = 1e-14\n",
    "        self.volume_analyte = volume_analyte\n",
    "\n",
    "#the def calculate_pH is the function that calculates the pH of the solution after a titration\n",
    "    def calculate_pH(self, volume_titrant):\n",
    "        return NotImplemented(\"This is the base calculator class. Please use a subclass instead.\")\n",
    "\n",
    "#the def plot_curve is the function that plots the pH of the solution after a titration\n",
    "    def plot_curve(self, volume_titrant_list):\n",
    "        pH_list = []\n",
    "        for volume_titrant in volume_titrant_list:\n",
    "            pH_list.append(self.calculate_pH(volume_titrant))\n",
    "        fig=plt.figure()\n",
    "        ax=fig.add_subplot(111)\n",
    "\n",
    "        ax.plot(volume_titrant_list, pH_list )\n",
    "        ax.set_xlabel(\"Volume of Titrant (mL)\")\n",
    "        ax.set_ylabel(\"pH\")\n",
    "        ax.set_title(\"pH vs. Volume of Titrant\")\n",
    "        ax.set_ylim(0,14)\n",
    "        return fig, ax\n"
   ]
  },
  {
   "cell_type": "markdown",
   "metadata": {},
   "source": [
    "The following code is the subclass for strong acid titrations."
   ]
  },
  {
   "cell_type": "code",
   "execution_count": 3,
   "metadata": {},
   "outputs": [],
   "source": [
    "#This is the subclass for strong acid titrations\n",
    "class PHCalculatorStrongAcid(PHCalculator):\n",
    "    def __init__(self, volume_analyte, cAcid, cBase):\n",
    "        super().__init__(volume_analyte,cAcid, cBase)\n",
    "\n",
    "    def calculate_pH(self, volume_titrant):\n",
    "        Va = self.volume_analyte\n",
    "        Vb = volume_titrant\n",
    "        CaVa= self.cAcid * Va\n",
    "        CbVb= self.cBase * Vb\n",
    "        totalVolume = Va+Vb\n",
    "        if CaVa>CbVb:\n",
    "            mProton = (CaVa - CbVb)/totalVolume\n",
    "            pH = -np.log10(mProton).round(2)\n",
    "        elif CaVa==CbVb:\n",
    "            pH = 7\n",
    "        else:\n",
    "            mProton = (CbVb - CaVa)/totalVolume\n",
    "            pH = 14 + np.log10(mProton).round(2)\n",
    "        return np.clip(pH, 0, 14)\n"
   ]
  },
  {
   "cell_type": "code",
   "execution_count": 4,
   "metadata": {},
   "outputs": [],
   "source": [
    "#This is the subclass for strong base titrations\n",
    "class PHCalculatorStrongBase(PHCalculator):\n",
    "    def __init__(self, volume_analyte, cAcid, cBase):\n",
    "        super().__init__(volume_analyte, cAcid, cBase)\n",
    "\n",
    "    def calculate_pH(self, volume_titrant):\n",
    "        Va = volume_titrant\n",
    "        Vb = self.volume_analyte\n",
    "        CaVa= self.cAcid * Va\n",
    "        CbVb= self.cBase * Vb\n",
    "        totalVolume = Va+Vb\n",
    "        if CbVb>CaVa:\n",
    "            mHydroxide = (CbVb-CaVa)/totalVolume\n",
    "            pH= 14 + np.log10(mHydroxide).round(2)\n",
    "        elif CaVa==CbVb:\n",
    "            pH = 7\n",
    "        else:\n",
    "            mProton = (CaVa-CbVb)/totalVolume\n",
    "            pH = -np.log10(mProton).round(2)\n",
    "        return np.clip(pH, 0, 14)\n"
   ]
  },
  {
   "cell_type": "code",
   "execution_count": 5,
   "metadata": {},
   "outputs": [],
   "source": [
    "#This is the subclass for weak acid titrations\n",
    "class PHCalculatorWeakAcid(PHCalculator):\n",
    "    def __init__(self, volume_analyte, cAcid, cBase, ka):\n",
    "        super().__init__(volume_analyte, cAcid, cBase)\n",
    "        self.ka = ka\n",
    "\n",
    "    def calculate_pH(self, volume_titrant):\n",
    "        Va = self.volume_analyte\n",
    "        Vb = volume_titrant\n",
    "        totalVolume = Va+Vb\n",
    "        CaVa= self.cAcid * Va\n",
    "        CbVb= self.cBase * Vb\n",
    "        concentrationphi= self.cAcid/self.cBase\n",
    "        phi=Vb/(concentrationphi*Va)\n",
    "        kb=self.kw/self.ka\n",
    "\n",
    "        if phi==0:\n",
    "            mProton=np.sqrt(self.ka* self.cAcid)\n",
    "            pH=-np.log10(mProton).round(3)\n",
    "        elif phi>0 and phi<1:\n",
    "            mProton=self.ka*(1-phi)/phi\n",
    "            pH=-np.log10(mProton).round(3)\n",
    "        elif phi==1:\n",
    "            mHydroxide=np.sqrt(kb*(CaVa/totalVolume))\n",
    "            pH=14+np.log10(mHydroxide).round(3)\n",
    "        else:\n",
    "            mol=CbVb-CaVa\n",
    "            mHydroxide=mol/totalVolume\n",
    "            pH=14+np.log10(mHydroxide).round(3)\n",
    "\n",
    "        return np.clip(pH, 0, 14)"
   ]
  },
  {
   "cell_type": "code",
   "execution_count": 6,
   "metadata": {},
   "outputs": [],
   "source": [
    "#This is the subclass for weak base titrations\n",
    "class PHCalculatorWeakBase(PHCalculator):\n",
    "    def __init__(self, volume_analyte,  cAcid, cBase, kb):\n",
    "        super().__init__(volume_analyte,  cAcid, cBase)\n",
    "        self.kb = kb\n",
    "\n",
    "    def calculate_pH(self, volume_titrant):\n",
    "        Va = volume_titrant\n",
    "        Vb = self.volume_analyte\n",
    "        totalVolume = Va+Vb\n",
    "        CaVa= self.cAcid * Va\n",
    "        CbVb= self.cBase * Vb\n",
    "        concentrationphi= self.cBase/self.cAcid\n",
    "        phi=Va/(concentrationphi*Vb)\n",
    "        ka=self.kw/self.kb\n",
    "\n",
    "        if phi==0:\n",
    "            mHydroxide=np.sqrt(self.kb* self.cBase)\n",
    "            pH=14+np.log10(mHydroxide).round(3)\n",
    "        elif phi>0 and phi<1:\n",
    "            mHydroxide=self.kb*(1-phi)/phi\n",
    "            pH=14+np.log10(mHydroxide).round(3)\n",
    "        elif phi==1:\n",
    "            mProton=np.sqrt(ka*(CbVb/totalVolume))\n",
    "            pH=-np.log10(mProton).round(3)\n",
    "        else:\n",
    "            mol=CaVa-CbVb\n",
    "            mProton=mol/totalVolume\n",
    "            pH=-np.log10(mProton).round(3)\n",
    "        return np.clip(pH, 0, 14)"
   ]
  },
  {
   "cell_type": "markdown",
   "metadata": {},
   "source": [
    "# Titration of strong acid with strong base\n",
    "\n",
    "Let's consider the titration of 10 mL of 0.5 M HCl with 0.5 M NaOH. In this reaction the strong acid (HCl) is neutralized by the strong base (NaOH), and as a result, water and NaCl are formed.\n",
    "\n",
    "${NaOH_{(\\textit{aq})} + HCl_{(\\textit{aq})} -> NaCl_{(\\textit{aq})} + H_2O_{(\\textit{l})}}$\n",
    "\n",
    "Because $HCl_{(\\textit{aq})}$, $NaOH_{(\\textit{aq})}$ and $NaCl_{(\\textit{aq})}$ are all completely dissociated, the net ionic equation for the neutralization reaction is:\n",
    "\n",
    "${OH^-}_{(\\textit{aq})} + {H_3O^ + }_{(\\textit{aq})} <>  + 2 H_2O_{(\\textit{l})}$\n",
    "\n",
    "\n",
    "### At the start of the titration\n",
    "\n",
    "In this stage of titration, the only species that contributes to the pH value is the analyte (HCl). Therefore, the initial value of the pH is calculated using the equation \n",
    "\n",
    "The pH of a solution is defined as the negative base-10 logarithm of the molar concentration of hydronium ions $\\log \\left[ {H_3O^ + } \\right]$."
   ]
  },
  {
   "cell_type": "code",
   "execution_count": 1,
   "metadata": {},
   "outputs": [
    {
     "ename": "NameError",
     "evalue": "name 'np' is not defined",
     "output_type": "error",
     "traceback": [
      "\u001b[0;31m---------------------------------------------------------------------------\u001b[0m",
      "\u001b[0;31mNameError\u001b[0m                                 Traceback (most recent call last)",
      "\u001b[0;32m<ipython-input-1-6d0aed2040c6>\u001b[0m in \u001b[0;36m<module>\u001b[0;34m\u001b[0m\n\u001b[1;32m      1\u001b[0m \u001b[0mvolume_analyte\u001b[0m \u001b[0;34m=\u001b[0m \u001b[0;36m10\u001b[0m\u001b[0;34m\u001b[0m\u001b[0;34m\u001b[0m\u001b[0m\n\u001b[0;32m----> 2\u001b[0;31m \u001b[0mvolume_titrant_list\u001b[0m \u001b[0;34m=\u001b[0m \u001b[0mnp\u001b[0m\u001b[0;34m.\u001b[0m\u001b[0mlinspace\u001b[0m\u001b[0;34m(\u001b[0m\u001b[0;36m0\u001b[0m\u001b[0;34m,\u001b[0m\u001b[0;36m50\u001b[0m\u001b[0;34m,\u001b[0m \u001b[0;36m100\u001b[0m\u001b[0;34m)\u001b[0m\u001b[0;34m\u001b[0m\u001b[0;34m\u001b[0m\u001b[0m\n\u001b[0m\u001b[1;32m      3\u001b[0m \u001b[0mcAcid\u001b[0m \u001b[0;34m=\u001b[0m \u001b[0;36m0.5\u001b[0m\u001b[0;34m\u001b[0m\u001b[0;34m\u001b[0m\u001b[0m\n\u001b[1;32m      4\u001b[0m \u001b[0mcBase\u001b[0m \u001b[0;34m=\u001b[0m \u001b[0;36m0.5\u001b[0m\u001b[0;34m\u001b[0m\u001b[0;34m\u001b[0m\u001b[0m\n\u001b[1;32m      5\u001b[0m \u001b[0mcalculator\u001b[0m \u001b[0;34m=\u001b[0m \u001b[0mPHCalculatorStrongAcid\u001b[0m\u001b[0;34m(\u001b[0m\u001b[0mvolume_analyte\u001b[0m\u001b[0;34m,\u001b[0m\u001b[0mcAcid\u001b[0m\u001b[0;34m,\u001b[0m \u001b[0mcBase\u001b[0m\u001b[0;34m)\u001b[0m\u001b[0;34m\u001b[0m\u001b[0;34m\u001b[0m\u001b[0m\n",
      "\u001b[0;31mNameError\u001b[0m: name 'np' is not defined"
     ]
    }
   ],
   "source": [
    "volume_analyte = 10\n",
    "volume_titrant_list = np.linspace(0,50, 100)\n",
    "cAcid = 0.5\n",
    "cBase = 0.5\n",
    "calculator = PHCalculatorStrongAcid(volume_analyte,cAcid, cBase)\n",
    "calculator.plot_curve(volume_titrant_list)"
   ]
  },
  {
   "cell_type": "markdown",
   "metadata": {},
   "source": [
    "# Strong Base"
   ]
  },
  {
   "cell_type": "code",
   "execution_count": null,
   "metadata": {},
   "outputs": [],
   "source": [
    "volume_analyte = 10\n",
    "volume_titrant_list = np.linspace(0,50, 100)\n",
    "cAcid = 0.5\n",
    "cBase = 0.5\n",
    "calculator = PHCalculatorStrongBase(volume_analyte, cAcid, cBase)\n",
    "calculator.plot_curve(volume_titrant_list)"
   ]
  },
  {
   "cell_type": "markdown",
   "metadata": {},
   "source": [
    "# Weak Acid"
   ]
  },
  {
   "cell_type": "code",
   "execution_count": null,
   "metadata": {},
   "outputs": [],
   "source": [
    "volume_analyte = 10\n",
    "volume_titrant_list = np.linspace(0,50, 100)\n",
    "cAcid = 0.5\n",
    "cBase = 0.5\n",
    "ka = 10**-4.76\n",
    "\n",
    "calculator = PHCalculatorWeakAcid(volume_analyte, cAcid, cBase, ka)\n",
    "calculator.plot_curve(volume_titrant_list)"
   ]
  },
  {
   "cell_type": "markdown",
   "metadata": {},
   "source": [
    "# Weak Base"
   ]
  },
  {
   "cell_type": "code",
   "execution_count": null,
   "metadata": {},
   "outputs": [],
   "source": [
    "volume_analyte = 10\n",
    "volume_titrant_list = np.linspace(0,50, 100)\n",
    "cAcid = 0.5\n",
    "cBase = 0.5\n",
    "kb = 10**-4.76\n",
    "\n",
    "calculator = PHCalculatorWeakBase(volume_analyte, cAcid, cBase,kb)\n",
    "calculator.plot_curve(volume_titrant_list)"
   ]
  }
 ],
 "metadata": {
  "kernelspec": {
   "display_name": "sentiment_analysis",
   "language": "python",
   "name": "sentiment_analysis"
  },
  "language_info": {
   "codemirror_mode": {
    "name": "ipython",
    "version": 3
   },
   "file_extension": ".py",
   "mimetype": "text/x-python",
   "name": "python",
   "nbconvert_exporter": "python",
   "pygments_lexer": "ipython3",
   "version": "3.7.6"
  }
 },
 "nbformat": 4,
 "nbformat_minor": 1
}
